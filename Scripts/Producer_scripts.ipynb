{
 "cells": [
  {
   "cell_type": "markdown",
   "metadata": {},
   "source": "# 1. Data Producer"
  },
  {
   "metadata": {},
   "cell_type": "markdown",
   "source": [
    "## **Attention**\n",
    "\n",
    "This project simulates the streaming data ingestion-to-prediction and visualization workflow: we publish data from a local system to Kafka via a producer as the first step of the pipeline."
   ]
  },
  {
   "metadata": {},
   "cell_type": "markdown",
   "source": "---"
  },
  {
   "metadata": {},
   "cell_type": "markdown",
   "source": "## **1.1 Library**"
  },
  {
   "metadata": {
    "ExecuteTime": {
     "end_time": "2025-10-27T10:33:58.037398Z",
     "start_time": "2025-10-27T10:33:58.034372Z"
    }
   },
   "cell_type": "code",
   "source": [
    "import time\n",
    "import numpy as np\n",
    "import re\n",
    "import pandas as pd"
   ],
   "outputs": [],
   "execution_count": 5
  },
  {
   "metadata": {
    "ExecuteTime": {
     "end_time": "2025-10-27T10:33:58.049273Z",
     "start_time": "2025-10-27T10:33:58.046823Z"
    }
   },
   "cell_type": "code",
   "source": [
    "from kafka3 import KafkaProducer,KafkaAdminClient\n",
    "from json import dumps\n",
    "from pandas import Series"
   ],
   "outputs": [],
   "execution_count": 6
  },
  {
   "metadata": {},
   "cell_type": "markdown",
   "source": "---"
  },
  {
   "metadata": {},
   "cell_type": "markdown",
   "source": "## **1.2 Pre-processing**"
  },
  {
   "metadata": {},
   "cell_type": "code",
   "outputs": [],
   "execution_count": null,
   "source": [
    "## ===================================================== Explanation\n",
    "# Sorting and imputing the data timeline\n",
    "## ===================================================== Implementation\n",
    "## ----------------------------------------------------- Params definition\n",
    "file_path = \"../DataStorage/Weather/\"\n",
    "file_name = \"weather.csv\"\n",
    "save_name = \"weather_sorted.csv\"\n",
    "## ----------------------------------------------------- Loading data\n",
    "def to_hour(targetSeries:Series) -> Series:\n",
    "    \"\"\" Convert timestamp into hourly unit \"\"\"\n",
    "    return targetSeries / 1e09 / 60 / 60\n",
    "def to_millisecond(targetSeries:Series) -> Series:\n",
    "    \"\"\" Convert hourly timestamp into millisecond unit \"\"\"\n",
    "    return targetSeries * 1e09 * 60 * 60\n",
    "data = pd.read_csv(file_path + file_name)\n",
    "## ----------------------------------------------------- Convert timestamp to integer\n",
    "data.loc[:,\"timestamp\"] = pd.to_datetime(\n",
    "    data.loc[:,\"timestamp\"]\n",
    ").astype('int').astype(\"float\")\n",
    "## ----------------------------------------------------- Get the minimum timestamp\n",
    "min_time_stamp = to_hour(\n",
    "    data\n",
    "    .loc[:,[\"site_id\",\"timestamp\"]]\n",
    "    .groupby(\"site_id\")[\"timestamp\"]\n",
    "    .min()\n",
    "    .reset_index()\n",
    "    .loc[:,\"timestamp\"]\n",
    "    .min()\n",
    ")\n",
    "## ----------------------------------------------------- Get the maximum timestamp\n",
    "max_time_stamp = to_hour(\n",
    "    data\n",
    "    .loc[:,[\"site_id\",\"timestamp\"]]\n",
    "    .groupby(\"site_id\")[\"timestamp\"]\n",
    "    .max()\n",
    "    .reset_index()\n",
    "    .loc[:,\"timestamp\"]\n",
    "    .max()\n",
    ")\n",
    "## ----------------------------------------------------- Create full timeline\n",
    "full_time_line = to_millisecond(np.arange(min_time_stamp,max_time_stamp,1.))\n",
    "_N = full_time_line.shape[0]\n",
    "full_site_id = np.repeat(np.arange(16),_N)\n",
    "full_time_series = pd.DataFrame({\n",
    "    \"timestamp\":list(full_time_line) * 16,\n",
    "    \"site_id\":full_site_id\n",
    "})\n",
    "## ----------------------------------------------------- Join to impute time series\n",
    "data_full_time = (\n",
    "    pd.merge(\n",
    "        data,full_time_series,\n",
    "        on  = [\"site_id\",\"timestamp\"],\n",
    "        how   = \"left\"\n",
    "    )\n",
    "    ## ------------------------------------------------- Sorting\n",
    "    .sort_values(\n",
    "        by = [\"site_id\",\"timestamp\"],\n",
    "        ascending    = [True,True],\n",
    "        ignore_index = True\n",
    "    )\n",
    ")\n",
    "# ----------------------------------------------------- Transform back to string type\n",
    "data_full_time.loc[:,\"timestamp\"] = pd.to_datetime(\n",
    "    data_full_time.loc[:,\"timestamp\"].astype(\"int\")\n",
    ").astype(\"str\")\n",
    "# ----------------------------------------------------- Add extra zero\n",
    "def add_zero(target):\n",
    "    return target + \".000\"\n",
    "data_full_time.loc[:,\"timestamp\"] = data_full_time.loc[:,\"timestamp\"].apply(add_zero)\n",
    "## ----------------------------------------------------- File saving\n",
    "data_full_time.to_csv(file_path + save_name, index=False)"
   ]
  },
  {
   "metadata": {},
   "cell_type": "markdown",
   "source": "---"
  },
  {
   "metadata": {},
   "cell_type": "markdown",
   "source": "## **1.4 Producing**"
  },
  {
   "metadata": {
    "ExecuteTime": {
     "end_time": "2025-10-27T10:33:58.837110Z",
     "start_time": "2025-10-27T10:33:58.618068Z"
    }
   },
   "cell_type": "code",
   "source": [
    "## ===================================================== Explanation\n",
    "# Delete the topic for testing purpose, refer to:\n",
    "#   https://kafka-python.readthedocs.io/en/master/apidoc/KafkaAdminClient.html\n",
    "## ===================================================== Implementation\n",
    "## ----------------------------------------------------- Admin Client Creation\n",
    "admin = KafkaAdminClient(\n",
    "    bootstrap_servers = f\"kafka:9092\",\n",
    "    api_version = (0,10),\n",
    "    client_id=\"topic-cleaner\"\n",
    ")"
   ],
   "outputs": [],
   "execution_count": 8
  },
  {
   "metadata": {
    "ExecuteTime": {
     "end_time": "2025-10-27T12:40:58.553299Z",
     "start_time": "2025-10-27T12:39:47.058275Z"
    }
   },
   "cell_type": "code",
   "source": [
    "## ===================================================== Explanation\n",
    "# Producing the data to Kafka\n",
    "## ===================================================== Implementation\n",
    "host_ip = \"kafka\"\n",
    "file_name = save_name\n",
    "topic = \"stream_weather_data\"\n",
    "## ----------------------------------------------------- Producer Creation\n",
    "producer = KafkaProducer(\n",
    "    bootstrap_servers = [f'{host_ip}:9092'],\n",
    "    value_serializer  = lambda x: dumps(x).encode('ascii'),\n",
    "    api_version       = (0, 10)\n",
    ")\n",
    "## ----------------------------------------------------- Sending\n",
    "counter = 0\n",
    "def extract_value(targetString:str) -> list:\n",
    "    \"\"\" Extract value from list \"\"\"\n",
    "    result = re.sub(pattern=r\"\\n\",repl=r\"\",string=targetString)\n",
    "    return re.split(pattern=r\",\", string=result)\n",
    "# Time gap pointer\n",
    "with open(file=file_path + file_name, mode=\"rt\") as f:\n",
    "    header = f.readline()\n",
    "    header = extract_value(header)\n",
    "    while True:\n",
    "        try:\n",
    "            # Value list\n",
    "            value = []\n",
    "            # 5 days\n",
    "            for i in range(5):\n",
    "                time.sleep(1)\n",
    "                # Get sending time\n",
    "                current_time = int(time.time())\n",
    "                if i == 0:\n",
    "                    start_time_stamp = current_time\n",
    "                # 24 hours per day\n",
    "                for _ in range(24):\n",
    "                    # Read a line\n",
    "                    line = f.readline()\n",
    "                    # Splitting\n",
    "                    line = extract_value(line)\n",
    "                    # Form dictionary\n",
    "                    line_dict = {\n",
    "                        header[0]:line[0],\n",
    "                        header[1]:line[1],\n",
    "                        header[2]:line[2],\n",
    "                        header[3]:line[3],\n",
    "                        header[4]:line[4],\n",
    "                        header[5]:line[5],\n",
    "                        header[6]:line[6],\n",
    "                        header[7]:line[7],\n",
    "                        \"weather_ts\":current_time\n",
    "                    }\n",
    "                    # Update value list\n",
    "                    value.append(line_dict)\n",
    "                counter += 1\n",
    "            # Sending\n",
    "            for message in value:\n",
    "                producer.send(\n",
    "                    topic = topic,\n",
    "                    value = message\n",
    "                )\n",
    "            producer.flush()\n",
    "            # Update time counter\n",
    "            print(\n",
    "                f\"day range: {counter-4:03d} - {counter:03d} | \"\n",
    "                f\"start timestamp: {start_time_stamp:10d} | \"\n",
    "                f\"last timestamp: {current_time:10d} | \"\n",
    "                f\"number of message: {len(value)}\"\n",
    "            )\n",
    "        except KeyboardInterrupt:\n",
    "            admin.delete_topics(topics=[\"FIT5202_ASS2B_reader\"])\n",
    "            print(\"delete topics\")\n",
    "            time.sleep(0.5)\n",
    "            break"
   ],
   "outputs": [
    {
     "name": "stdout",
     "output_type": "stream",
     "text": [
      "day range: 001 - 005 | start timestamp: 1761568788 | last timestamp: 1761568792 | number of message: 120\n",
      "day range: 006 - 010 | start timestamp: 1761568793 | last timestamp: 1761568797 | number of message: 120\n",
      "day range: 011 - 015 | start timestamp: 1761568798 | last timestamp: 1761568802 | number of message: 120\n",
      "day range: 016 - 020 | start timestamp: 1761568803 | last timestamp: 1761568807 | number of message: 120\n"
     ]
    },
    {
     "name": "stderr",
     "output_type": "stream",
     "text": [
      "Node 1 connection failed -- refreshing metadata\n"
     ]
    },
    {
     "name": "stdout",
     "output_type": "stream",
     "text": [
      "delete topics\n"
     ]
    }
   ],
   "execution_count": 14
  },
  {
   "metadata": {},
   "cell_type": "markdown",
   "source": "---"
  }
 ],
 "metadata": {
  "kernelspec": {
   "display_name": "pyspark",
   "language": "python",
   "name": "python3"
  },
  "language_info": {
   "codemirror_mode": {
    "name": "ipython",
    "version": 3
   },
   "file_extension": ".py",
   "mimetype": "text/x-python",
   "name": "python",
   "nbconvert_exporter": "python",
   "pygments_lexer": "ipython3",
   "version": "3.12.3"
  }
 },
 "nbformat": 4,
 "nbformat_minor": 4
}
